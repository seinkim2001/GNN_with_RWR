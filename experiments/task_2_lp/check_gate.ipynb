{
 "cells": [
  {
   "cell_type": "code",
   "execution_count": 3,
   "metadata": {},
   "outputs": [],
   "source": [
    "import sys\n",
    "import os\n",
    "\n",
    "# 현재 파일 기준 상위 2단계 폴더 (gnn_with_rwr)를 sys.path에 추가\n",
    "sys.path.append(os.path.abspath(os.path.join(os.getcwd(), \"../..\")))"
   ]
  },
  {
   "cell_type": "code",
   "execution_count": 4,
   "metadata": {},
   "outputs": [],
   "source": [
    "import os\n",
    "import torch\n",
    "import torch.nn as nn\n",
    "import torch.nn.functional as F\n",
    "import numpy as np\n",
    "from torch_geometric.nn import GCNConv\n",
    "from torch_geometric.utils import from_networkx\n",
    "from torch_geometric.transforms import RandomLinkSplit\n",
    "from data.load_dataset import load_cora_graph\n"
   ]
  },
  {
   "cell_type": "code",
   "execution_count": 11,
   "metadata": {},
   "outputs": [],
   "source": [
    "def forward(self, x, edge_index):\n",
    "    print(f\"🎯 원본 input x shape: {x.shape}\")\n",
    "    print(f\"✅ x[:3]:\\n{x[:3]}\")\n",
    "\n",
    "    raw_gate = self.gate[0](x)  # Linear만 적용\n",
    "    gate_weight = self.gate[1](raw_gate)  # Sigmoid 적용\n",
    "\n",
    "    print(f\"\\n🎯 gate linear 출력 (sigmoid 전) shape: {raw_gate.shape}\")\n",
    "    print(f\"✅ raw_gate[:3]:\\n{raw_gate[:3]}\")\n",
    "\n",
    "    print(f\"\\n🎯 gate weight (sigmoid 후) shape: {gate_weight.shape}\")\n",
    "    print(f\"✅ gate_weight[:3]:\\n{gate_weight[:3]}\")\n",
    "\n",
    "    x_gated = x * gate_weight\n",
    "    print(f\"\\n🎯 After Gate x shape: {x_gated.shape}\")\n",
    "    print(f\"✅ x_gated[:3]:\\n{x_gated[:3]}\")\n",
    "\n",
    "    x1 = self.conv1(x_gated, edge_index)\n",
    "    print(f\"\\n🎯 After conv1 shape: {x1.shape}\")\n",
    "    print(f\"✅ x1[:3]:\\n{x1[:3]}\")\n",
    "\n",
    "    x2 = F.relu(x1)\n",
    "    print(f\"\\n🎯 After ReLU shape: {x2.shape}\")\n",
    "    print(f\"✅ x2[:3]:\\n{x2[:3]}\")\n",
    "\n",
    "    x3 = self.conv2(x2, edge_index)\n",
    "    print(f\"\\n🎯 After conv2 shape: {x3.shape}\")\n",
    "    print(f\"✅ 최종 출력 x3[:3]:\\n{x3[:3]}\")\n",
    "\n",
    "    return x3\n"
   ]
  },
  {
   "cell_type": "code",
   "execution_count": 12,
   "metadata": {},
   "outputs": [],
   "source": [
    "class GCNEncoderWithGate(nn.Module):\n",
    "    def __init__(self, input_dim, hidden_dim):\n",
    "        super(GCNEncoderWithGate, self).__init__()\n",
    "        self.gate = nn.Sequential(\n",
    "            nn.Linear(input_dim, input_dim),  # gate[0]\n",
    "            nn.Sigmoid()                      # gate[1]\n",
    "        )\n",
    "        self.conv1 = GCNConv(input_dim, hidden_dim)\n",
    "        self.conv2 = GCNConv(hidden_dim, hidden_dim)\n",
    "\n",
    "    def forward(self, x, edge_index):\n",
    "        print(f\"🎯 원본 input x shape: {x.shape}\")\n",
    "        print(f\"✅ x[:3]:\\n{x[:3]}\")\n",
    "\n",
    "        raw_gate = self.gate[0](x)\n",
    "        gate_weight = self.gate[1](raw_gate)\n",
    "\n",
    "        print(f\"\\n🎯 gate linear 출력 (sigmoid 전) shape: {raw_gate.shape}\")\n",
    "        print(f\"✅ raw_gate[:3]:\\n{raw_gate[:3]}\")\n",
    "\n",
    "        print(f\"\\n🎯 gate weight (sigmoid 후) shape: {gate_weight.shape}\")\n",
    "        print(f\"✅ gate_weight[:3]:\\n{gate_weight[:3]}\")\n",
    "\n",
    "        x_gated = x * gate_weight\n",
    "        print(f\"\\n🎯 After Gate x shape: {x_gated.shape}\")\n",
    "        print(f\"✅ x_gated[:3]:\\n{x_gated[:3]}\")\n",
    "\n",
    "        x1 = self.conv1(x_gated, edge_index)\n",
    "        print(f\"\\n🎯 After conv1 shape: {x1.shape}\")\n",
    "        print(f\"✅ x1[:3]:\\n{x1[:3]}\")\n",
    "\n",
    "        x2 = F.relu(x1)\n",
    "        print(f\"\\n🎯 After ReLU shape: {x2.shape}\")\n",
    "        print(f\"✅ x2[:3]:\\n{x2[:3]}\")\n",
    "\n",
    "        x3 = self.conv2(x2, edge_index)\n",
    "        print(f\"\\n🎯 After conv2 shape: {x3.shape}\")\n",
    "        print(f\"✅ 최종 출력 x3[:3]:\\n{x3[:3]}\")\n",
    "\n",
    "        return x3\n"
   ]
  },
  {
   "cell_type": "code",
   "execution_count": 13,
   "metadata": {},
   "outputs": [],
   "source": [
    "G, id2idx = load_cora_graph()\n",
    "data = from_networkx(G)\n",
    "data.train_mask = data.val_mask = data.test_mask = None\n",
    "\n",
    "transform = RandomLinkSplit(is_undirected=True, add_negative_train_samples=True)\n",
    "train_data, val_data, test_data = transform(data)"
   ]
  },
  {
   "cell_type": "code",
   "execution_count": 20,
   "metadata": {},
   "outputs": [
    {
     "name": "stdout",
     "output_type": "stream",
     "text": [
      "🔥 실험 파일: attr_rwr_adasim_simrank_jaccard_degree_top8.npy\n",
      "✅ input dim: 864, hidden dim: 2592\n"
     ]
    }
   ],
   "source": [
    "attr_path = \"/Users/seinkim/bigdas/code/gnn_with_rwr_centrality/attributes/test/\"  # 경로 필요시 수정\n",
    "fname = sorted([f for f in os.listdir(attr_path) if f.endswith(\".npy\")])[0]\n",
    "print(f\"🔥 실험 파일: {fname}\")\n",
    "\n",
    "attr = np.load(os.path.join(attr_path, fname))\n",
    "x = torch.tensor(attr, dtype=torch.float)\n",
    "\n",
    "input_dim = x.size(1)\n",
    "hidden_dim = input_dim * 3\n",
    "print(f\"✅ input dim: {input_dim}, hidden dim: {hidden_dim}\")"
   ]
  },
  {
   "cell_type": "code",
   "execution_count": 21,
   "metadata": {},
   "outputs": [
    {
     "name": "stdout",
     "output_type": "stream",
     "text": [
      "torch.Size([2708, 864])\n"
     ]
    }
   ],
   "source": [
    "print(x.shape)"
   ]
  },
  {
   "cell_type": "code",
   "execution_count": 24,
   "metadata": {},
   "outputs": [
    {
     "name": "stdout",
     "output_type": "stream",
     "text": [
      "Shape: (2708, 27)\n",
      "Node 0: [3.38664208e-05 3.55251991e-03 1.09459695e-03 8.90952573e-05\n",
      " 2.05536421e-04 1.13259756e-04 6.08915580e-05 2.90700939e-05\n",
      " 6.06193703e-04 6.68578935e-05 1.71766706e-05 8.96565307e-06\n",
      " 7.37537843e-05 3.07890667e-04 1.72660910e-04 1.55856349e-04\n",
      " 7.14079826e-05 2.48420771e-05 8.13751367e-06 1.57950218e-05\n",
      " 2.62721735e-05 9.24306253e-06 2.53794436e-05 1.80008507e-05\n",
      " 3.32124366e-05 1.08198320e-05 3.80793880e-05]\n"
     ]
    }
   ],
   "source": [
    "import numpy as np\n",
    "rwr = np.load(\"/Users/seinkim/bigdas/code/gnn_with_rwr_centrality/attributes/generated_2past/attr_rwr_top1.npy\")\n",
    "print(\"Shape:\", rwr.shape)\n",
    "print(\"Node 0:\", rwr[0])  # 첫 번째 노드의 모든 anchor와의 RWR score"
   ]
  },
  {
   "cell_type": "code",
   "execution_count": 17,
   "metadata": {},
   "outputs": [
    {
     "name": "stdout",
     "output_type": "stream",
     "text": [
      "✅ x[:3]:\n",
      "tensor([[0.0000, 0.0000, 0.0000, 0.0000, 0.0000, 0.0000, 0.0000, 0.0000, 0.0000,\n",
      "         0.0000, 0.0000, 0.0000, 0.0000, 0.0564, 0.0000, 0.0000, 0.0000, 0.0000,\n",
      "         0.0000, 0.0000, 0.0000, 0.0000, 0.0000, 0.0000, 0.0000, 0.0000, 0.0000],\n",
      "        [0.0000, 0.0000, 0.0251, 0.0000, 0.0000, 0.0000, 0.0000, 0.0000, 0.0000,\n",
      "         0.0000, 0.0000, 0.0000, 0.0000, 0.0000, 0.0000, 0.0000, 0.0000, 0.0000,\n",
      "         0.0000, 0.0000, 0.0000, 0.0000, 0.0000, 0.0000, 0.0000, 0.0000, 0.0000],\n",
      "        [0.0000, 0.0000, 0.0000, 0.0000, 0.0000, 0.0000, 0.0000, 0.0122, 0.0000,\n",
      "         0.0122, 0.0000, 0.0000, 0.0000, 0.0000, 0.0122, 0.0122, 0.0000, 0.0000,\n",
      "         0.0000, 0.0000, 0.0000, 0.0000, 0.0000, 0.0000, 0.0000, 0.0122, 0.0000]])\n"
     ]
    }
   ],
   "source": [
    "print(f\"✅ x[:3]:\\n{x[:3]}\")"
   ]
  },
  {
   "cell_type": "code",
   "execution_count": null,
   "metadata": {},
   "outputs": [],
   "source": []
  }
 ],
 "metadata": {
  "kernelspec": {
   "display_name": "gnnwithrwr",
   "language": "python",
   "name": "python3"
  },
  "language_info": {
   "codemirror_mode": {
    "name": "ipython",
    "version": 3
   },
   "file_extension": ".py",
   "mimetype": "text/x-python",
   "name": "python",
   "nbconvert_exporter": "python",
   "pygments_lexer": "ipython3",
   "version": "3.8.20"
  }
 },
 "nbformat": 4,
 "nbformat_minor": 2
}
